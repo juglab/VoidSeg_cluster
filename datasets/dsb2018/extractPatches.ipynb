{
 "cells": [
  {
   "cell_type": "markdown",
   "metadata": {},
   "source": [
    "This notebook takes **dsb2018 data** (01_original_size), extracts patches of size (**128 X 128**) and saves in directory **02_patch**\n"
   ]
  },
  {
   "cell_type": "markdown",
   "metadata": {},
   "source": [
    "**Import packages**"
   ]
  },
  {
   "cell_type": "code",
   "execution_count": 1,
   "metadata": {},
   "outputs": [],
   "source": [
    "import numpy as np\n",
    "import matplotlib.pyplot as plt\n",
    "import os\n",
    "from tifffile import imread, imsave\n",
    "from tqdm import tqdm_notebook as tqdm\n",
    "from sklearn.feature_extraction import image\n",
    "np.random.seed(42)\n"
   ]
  },
  {
   "cell_type": "markdown",
   "metadata": {},
   "source": [
    "**Download Data** (skip if you already have the data) from \n",
    "url       = 'https://github.com/mpicbg-csbd/stardist/releases/download/0.1.0/dsb2018.zip'"
   ]
  },
  {
   "cell_type": "markdown",
   "metadata": {},
   "source": [
    "**Get Directory Information**"
   ]
  },
  {
   "cell_type": "code",
   "execution_count": 2,
   "metadata": {},
   "outputs": [],
   "source": [
    "#path='/home/manan/Desktop/03_Datasets/juglab/StarVoid/dsb2018/'\n",
    "path=''\n",
    "testInputAddress=path+'01_original_size/test/'\n",
    "trainInputAddress=path+'01_original_size/train/'\n",
    "\n",
    "\n",
    "testOutputAddress=path+'02_patch/test/'\n",
    "trainOutputAddress=path+'02_patch/train/'\n"
   ]
  },
  {
   "cell_type": "markdown",
   "metadata": {},
   "source": [
    "**Check if directories exist**"
   ]
  },
  {
   "cell_type": "code",
   "execution_count": 3,
   "metadata": {},
   "outputs": [],
   "source": [
    "if (os.path.isdir(testOutputAddress)):\n",
    "    if(os.path.isdir(testOutputAddress+\"images/\")):\n",
    "        print(\"Test/Images exists\")\n",
    "    else:\n",
    "        os.mkdir(testOutputAddress + \"images/\")\n",
    "    if(os.path.isdir(testOutputAddress+\"masks/\")):\n",
    "        print(\"Test/Masks exists\")\n",
    "    else:\n",
    "        os.mkdir(testOutputAddress + \"masks/\")\n",
    "else:\n",
    "    os.mkdir(testOutputAddress)\n",
    "    os.mkdir(testOutputAddress + \"images/\")\n",
    "    os.mkdir(testOutputAddress + \"masks/\")\n",
    "    \n",
    "    \n",
    "if (os.path.isdir(trainOutputAddress )):\n",
    "    if(os.path.isdir(trainOutputAddress+\"images/\")):\n",
    "        print(\"Train/Images exists\")\n",
    "    else:\n",
    "        os.mkdir(trainOutputAddress + \"images/\")\n",
    "    if(os.path.isdir(trainOutputAddress+\"masks/\")):\n",
    "        print(\"Train/Masks exists\")\n",
    "    else:\n",
    "        os.mkdir(trainOutputAddress + \"masks/\")\n",
    "else:\n",
    "    os.mkdir(trainOutputAddress )\n",
    "    os.mkdir(trainOutputAddress + \"images/\")\n",
    "    os.mkdir(trainOutputAddress + \"masks/\")    \n",
    "             \n"
   ]
  },
  {
   "cell_type": "markdown",
   "metadata": {},
   "source": [
    "**Patch Images and Save**\n"
   ]
  },
  {
   "cell_type": "code",
   "execution_count": 4,
   "metadata": {},
   "outputs": [],
   "source": [
    "# Extract 10 patches. 0 defines the seed!\n",
    "def createPatches(inputAddress, dir1, dir2, outputAddress, size):\n",
    "    for filename in tqdm(os.listdir(inputAddress+'images/')):\n",
    "        dataimages=imread([inputAddress+dir1+filename])\n",
    "        datamasks=imread([inputAddress+dir2+filename])\n",
    "        patchesimages = image.extract_patches_2d(dataimages, (size, size), 10, 0)  \n",
    "        patchesmasks = image.extract_patches_2d(datamasks, (size, size), 10, 0)\n",
    "        for i in range(0, np.shape(patchesimages)[0]):\n",
    "            imsave(outputAddress+dir1+filename[:-4]+str(i)+filename[-4:], patchesimages[i])\n",
    "            imsave(outputAddress+dir2+filename[:-4]+str(i)+filename[-4:], patchesmasks[i])\n"
   ]
  },
  {
   "cell_type": "code",
   "execution_count": 5,
   "metadata": {},
   "outputs": [
    {
     "data": {
      "application/vnd.jupyter.widget-view+json": {
       "model_id": "bd4f3808171c47dab85b23bb4b41e592",
       "version_major": 2,
       "version_minor": 0
      },
      "text/plain": [
       "HBox(children=(IntProgress(value=0, max=50), HTML(value='')))"
      ]
     },
     "metadata": {},
     "output_type": "display_data"
    },
    {
     "name": "stderr",
     "output_type": "stream",
     "text": [
      "/home/manan/Softwares/anaconda3/lib/python3.7/site-packages/sklearn/feature_extraction/image.py:287: FutureWarning: Using a non-tuple sequence for multidimensional indexing is deprecated; use `arr[tuple(seq)]` instead of `arr[seq]`. In the future this will be interpreted as an array index, `arr[np.array(seq)]`, which will result either in an error or a different result.\n",
      "  indexing_strides = arr[slices].strides\n"
     ]
    },
    {
     "name": "stdout",
     "output_type": "stream",
     "text": [
      "\n"
     ]
    },
    {
     "data": {
      "application/vnd.jupyter.widget-view+json": {
       "model_id": "b71d02e82b2249ce8a0479041ea46c27",
       "version_major": 2,
       "version_minor": 0
      },
      "text/plain": [
       "HBox(children=(IntProgress(value=0, max=447), HTML(value='')))"
      ]
     },
     "metadata": {},
     "output_type": "display_data"
    },
    {
     "name": "stdout",
     "output_type": "stream",
     "text": [
      "\n"
     ]
    }
   ],
   "source": [
    "createPatches(testInputAddress, 'images/', 'masks/', testOutputAddress, 128)\n",
    "createPatches(trainInputAddress, 'images/', 'masks/', trainOutputAddress, 128)"
   ]
  },
  {
   "cell_type": "code",
   "execution_count": null,
   "metadata": {},
   "outputs": [],
   "source": []
  }
 ],
 "metadata": {
  "kernelspec": {
   "display_name": "Python 3",
   "language": "python",
   "name": "python3"
  },
  "language_info": {
   "codemirror_mode": {
    "name": "ipython",
    "version": 3
   },
   "file_extension": ".py",
   "mimetype": "text/x-python",
   "name": "python",
   "nbconvert_exporter": "python",
   "pygments_lexer": "ipython3",
   "version": "3.7.1"
  }
 },
 "nbformat": 4,
 "nbformat_minor": 2
}
