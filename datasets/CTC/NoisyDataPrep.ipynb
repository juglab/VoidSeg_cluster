{
 "cells": [
  {
   "cell_type": "code",
   "execution_count": 1,
   "metadata": {
    "collapsed": true
   },
   "outputs": [],
   "source": [
    "import numpy as np\n",
    "import matplotlib.pyplot as plt\n",
    "\n",
    "from glob import glob\n",
    "from tqdm import tqdm\n",
    "from tifffile import imread\n",
    "from csbdeep.utils import Path, normalize\n",
    "\n",
    "from skimage import io\n",
    "\n",
    "np.random.seed(42)"
   ]
  },
  {
   "cell_type": "code",
   "execution_count": 2,
   "metadata": {
    "collapsed": true
   },
   "outputs": [],
   "source": [
    "def noisy(image, sigma):\n",
    "    \n",
    "    row,col= image.shape\n",
    "    mean = 0\n",
    "    img=np.array(image).astype(np.float32)\n",
    "    gauss = np.random.normal(mean,sigma,(row,col))\n",
    "    gauss = gauss.reshape(row,col)\n",
    "    noisy = img + gauss\n",
    "    return noisy"
   ]
  },
  {
   "cell_type": "code",
   "execution_count": 3,
   "metadata": {
    "collapsed": true
   },
   "outputs": [],
   "source": [
    "X = sorted(glob('/Volumes/Data/StarVoid/Sim/Raw/*.tif'))\n",
    "Y = sorted(glob('/Volumes/Data/StarVoid/Sim/GT/*.tif'))"
   ]
  },
  {
   "cell_type": "code",
   "execution_count": 4,
   "metadata": {},
   "outputs": [
    {
     "data": {
      "text/plain": [
       "Text(0.5,1,'Raw image')"
      ]
     },
     "execution_count": 4,
     "metadata": {},
     "output_type": "execute_result"
    }
   ],
   "source": [
    "X = list(map(imread,X))\n",
    "Y = list(map(imread,Y))\n",
    "plt.subplot(121); plt.imshow(X[9],cmap='gray');   plt.axis('off'); plt.title('Raw image')"
   ]
  },
  {
   "cell_type": "code",
   "execution_count": 5,
   "metadata": {},
   "outputs": [
    {
     "name": "stdout",
     "output_type": "stream",
     "text": [
      "number of images: 150\n",
      "- training+validation:       120\n",
      "- test:      30\n"
     ]
    }
   ],
   "source": [
    "rng = np.random.RandomState(42)\n",
    "ind = rng.permutation(len(X))\n",
    "n_test = int(round(0.2*len(X)))\n",
    "ind_pretrn, ind_test = ind[:-n_test], ind[-n_test:]\n",
    "X_test, Y_test = [X[i] for i in ind_test] , [Y[i] for i in ind_test]\n",
    "X_pretrn, Y_pretrn = [X[i] for i in ind_pretrn] , [Y[i] for i in ind_pretrn]\n",
    "print('number of images: %3d' % len(X))\n",
    "print('- training+validation:       %3d' % len(X_pretrn))\n",
    "print('- test:     %3d' % len(X_test))"
   ]
  },
  {
   "cell_type": "code",
   "execution_count": 6,
   "metadata": {},
   "outputs": [
    {
     "name": "stdout",
     "output_type": "stream",
     "text": [
      "number of images: 150\n",
      "- training:       102\n",
      "- validation:      18\n"
     ]
    }
   ],
   "source": [
    "rng = np.random.RandomState(42)\n",
    "ind = rng.permutation(len(X_pretrn))\n",
    "n_val = int(round(0.15 * len(X_pretrn)))\n",
    "ind_train, ind_val = ind[:-n_val], ind[-n_val:]\n",
    "X_val, Y_val = [X_pretrn[i] for i in ind_val]  , [Y_pretrn[i] for i in ind_val]\n",
    "X_train, Y_train = [X_pretrn[i] for i in ind_train]  , [Y_pretrn[i] for i in ind_train]\n",
    "print('number of images: %3d' % len(X))\n",
    "print('- training:       %3d' % len(X_train))\n",
    "print('- validation:     %3d' % len(X_val))"
   ]
  },
  {
   "cell_type": "code",
   "execution_count": 7,
   "metadata": {
    "collapsed": true
   },
   "outputs": [],
   "source": [
    "X_train = np.array(X_train)[:,:768,:736]\n",
    "X_test = np.array(X_test)\n",
    "X_val = np.array(X_val)[:,:768,:736]\n",
    "\n",
    "Y_train = np.array(Y_train)[:,:768,:736]\n",
    "Y_test = np.array(Y_test)\n",
    "Y_val = np.array(Y_val)[:,:768,:736]"
   ]
  },
  {
   "cell_type": "code",
   "execution_count": 8,
   "metadata": {
    "collapsed": true
   },
   "outputs": [],
   "source": [
    "# np.save(\"/home/prakash/Desktop/NAS/StarVoid/Sim/GTTrain.npy\",Y_train)\n",
    "# np.save(\"/home/prakash/Desktop/NAS/StarVoid/Sim/GTTest.npy\",Y_test)\n",
    "# np.save(\"/home/prakash/Desktop/NAS/StarVoid/Sim/GTVal.npy\",Y_val)"
   ]
  },
  {
   "cell_type": "code",
   "execution_count": 9,
   "metadata": {},
   "outputs": [
    {
     "name": "stdout",
     "output_type": "stream",
     "text": [
      "79 282\n"
     ]
    }
   ],
   "source": [
    "i = 9\n",
    "img, lbl = X_train[i], Y_train[i]\n",
    "plt.figure(figsize=(16,10))\n",
    "plt.subplot(121); plt.imshow(img,cmap='gray');   plt.axis('off'); plt.title('Raw image')\n",
    "None;\n",
    "print(np.min(img),np.max(img))"
   ]
  },
  {
   "cell_type": "code",
   "execution_count": 10,
   "metadata": {},
   "outputs": [
    {
     "name": "stderr",
     "output_type": "stream",
     "text": [
      "100%|██████████| 102/102 [00:02<00:00, 44.60it/s]\n",
      "100%|██████████| 30/30 [00:00<00:00, 45.83it/s]\n",
      "100%|██████████| 18/18 [00:00<00:00, 45.68it/s]\n",
      "100%|██████████| 102/102 [00:02<00:00, 45.50it/s]\n",
      "100%|██████████| 30/30 [00:00<00:00, 47.92it/s]\n",
      "100%|██████████| 18/18 [00:00<00:00, 45.64it/s]\n"
     ]
    }
   ],
   "source": [
    "std=10.0\n",
    "X_train10 = np.array([noisy(x,std) for x in tqdm(X_train)])\n",
    "X_test10 = np.array([noisy(x,std) for x in tqdm(X_test)])\n",
    "X_val10 = np.array([noisy(x,std) for x in tqdm(X_val)])\n",
    "\n",
    "std=20.0\n",
    "X_train20 = np.array([noisy(x,std) for x in tqdm(X_train)])\n",
    "X_test20 = np.array([noisy(x,std) for x in tqdm(X_test)])\n",
    "X_val20 = np.array([noisy(x,std) for x in tqdm(X_val)])"
   ]
  },
  {
   "cell_type": "code",
   "execution_count": 11,
   "metadata": {},
   "outputs": [
    {
     "name": "stdout",
     "output_type": "stream",
     "text": [
      "46.9542520202 290.110809422\n",
      "3.25822037806 300.910062267\n"
     ]
    }
   ],
   "source": [
    "i = 9\n",
    "img, lbl = X_train10[i], Y_train[i]\n",
    "plt.figure(figsize=(16,10))\n",
    "plt.subplot(121); plt.imshow(img,cmap='gray');   plt.axis('off'); plt.title('Raw image')\n",
    "None;\n",
    "print(np.min(img),np.max(img))\n",
    "\n",
    "i = 9\n",
    "img, lbl = X_train20[i], Y_train[i]\n",
    "plt.figure(figsize=(16,10))\n",
    "plt.subplot(121); plt.imshow(img,cmap='gray');   plt.axis('off'); plt.title('Raw image')\n",
    "None;\n",
    "print(np.min(img),np.max(img))"
   ]
  },
  {
   "cell_type": "code",
   "execution_count": 12,
   "metadata": {
    "collapsed": true
   },
   "outputs": [],
   "source": [
    "# np.save(\"/home/prakash/Desktop/NAS/StarVoid/Sim/NumpyData/NoisyTrain.npy\",X_train)\n",
    "# np.save(\"/home/prakash/Desktop/NAS/StarVoid/Sim/NumpyData/NoisyTest.npy\",X_test)\n",
    "# np.save(\"/home/prakash/Desktop/NAS/StarVoid/Sim/NumpyData/NoisyVal.npy\",X_val)\n",
    "# np.save(\"/home/prakash/Desktop/NAS/StarVoid/Sim/NumpyData/Noisy10Train.npy\",X_train10)\n",
    "# np.save(\"/home/prakash/Desktop/NAS/StarVoid/Sim/NumpyData/Noisy10Test.npy\",X_test10)\n",
    "# np.save(\"/home/prakash/Desktop/NAS/StarVoid/Sim/NumpyData/Noisy10Val.npy\",X_val10)\n",
    "# np.save(\"/home/prakash/Desktop/NAS/StarVoid/Sim/NumpyData/Noisy20Train.npy\",X_train20)\n",
    "# np.save(\"/home/prakash/Desktop/NAS/StarVoid/Sim/NumpyData/Noisy20Test.npy\",X_test20)\n",
    "# np.save(\"/home/prakash/Desktop/NAS/StarVoid/Sim/NumpyData/Noisy20Val.npy\",X_val20)\n"
   ]
  },
  {
   "cell_type": "code",
   "execution_count": 13,
   "metadata": {
    "collapsed": true
   },
   "outputs": [],
   "source": [
    "np.savez_compressed(\"/Volumes/Data/StarVoid/Sim/NumpyData/TrainVal.npz\", X_train=X_train, Y_train=Y_train, X_val=X_val, Y_val=Y_val)\n",
    "np.savez_compressed(\"/Volumes/Data/StarVoid/Sim/NumpyData/Test.npz\", X_test=X_test, Y_test=Y_test)"
   ]
  },
  {
   "cell_type": "code",
   "execution_count": 14,
   "metadata": {
    "collapsed": true
   },
   "outputs": [],
   "source": [
    "\n",
    "np.savez_compressed(\"/Volumes/Data/StarVoid/Sim/NumpyData/TrainVal10.npz\",  X_train=X_train10, Y_train=Y_train, X_val=X_val10, Y_val=Y_val)\n",
    "np.savez_compressed(\"/Volumes/Data/StarVoid/Sim/NumpyData/Test10.npz\", X_test=X_test10, Y_test=Y_test)"
   ]
  },
  {
   "cell_type": "code",
   "execution_count": 15,
   "metadata": {
    "collapsed": true
   },
   "outputs": [],
   "source": [
    "\n",
    "np.savez_compressed(\"/Volumes/Data/StarVoid/Sim/NumpyData/TrainVal20.npz\",  X_train=X_train20, Y_train=Y_train, X_val=X_val20, Y_val=Y_val)\n",
    "np.savez_compressed(\"/Volumes/Data/StarVoid/Sim/NumpyData/Test20.npz\", X_test=X_test20, Y_test=Y_test)"
   ]
  },
  {
   "cell_type": "code",
   "execution_count": 24,
   "metadata": {},
   "outputs": [],
   "source": [
    "b=np.load('/Volumes/Data/StarVoid/Sim/NumpyData/TrainVal20.npz')"
   ]
  },
  {
   "cell_type": "code",
   "execution_count": 25,
   "metadata": {},
   "outputs": [
    {
     "data": {
      "text/plain": [
       "(18, 768, 736)"
      ]
     },
     "execution_count": 25,
     "metadata": {},
     "output_type": "execute_result"
    }
   ],
   "source": [
    "b['X_val'].shape"
   ]
  },
  {
   "cell_type": "code",
   "execution_count": 26,
   "metadata": {},
   "outputs": [
    {
     "data": {
      "text/plain": [
       "(102, 768, 736)"
      ]
     },
     "execution_count": 26,
     "metadata": {},
     "output_type": "execute_result"
    }
   ],
   "source": [
    "b['X_train'].shape"
   ]
  },
  {
   "cell_type": "markdown",
   "metadata": {},
   "source": [
    "Noise2Void Data Prep"
   ]
  },
  {
   "cell_type": "code",
   "execution_count": 19,
   "metadata": {},
   "outputs": [
    {
     "name": "stdout",
     "output_type": "stream",
     "text": [
      "(102, 768, 736)\n",
      "(30, 773, 739)\n"
     ]
    }
   ],
   "source": [
    "X_trainN2V=np.concatenate((X_train,X_test[:,:768,:736]))\n",
    "X_valN2V=X_val\n",
    "print(X_train10.shape)\n",
    "print(X_test10.shape)\n",
    "\n",
    "X_trainN2V10=np.concatenate((X_train10,X_test10[:,:768,:736]))\n",
    "X_valN2V10=X_val10\n",
    "\n",
    "X_trainN2V20=np.concatenate((X_train20,X_test20[:,:768,:736]))\n",
    "X_valN2V20=X_val20\n",
    "\n",
    "np.savez_compressed(\"/Volumes/Data/StarVoid/Sim/NumpyData/TrainValN2V.npz\",  X_train=X_trainN2V, X_val=X_valN2V)\n",
    "np.savez_compressed(\"/Volumes/Data/StarVoid/Sim/NumpyData/TrainValN2V10.npz\",  X_train=X_trainN2V10, X_val=X_valN2V10)\n",
    "np.savez_compressed(\"/Volumes/Data/StarVoid/Sim/NumpyData/TrainValN2V20.npz\",  X_train=X_trainN2V20, X_val=X_valN2V20)\n"
   ]
  },
  {
   "cell_type": "code",
   "execution_count": null,
   "metadata": {
    "collapsed": true
   },
   "outputs": [],
   "source": []
  }
 ],
 "metadata": {
  "kernelspec": {
   "display_name": "Python 3",
   "language": "python",
   "name": "python3"
  },
  "language_info": {
   "codemirror_mode": {
    "name": "ipython",
    "version": 3
   },
   "file_extension": ".py",
   "mimetype": "text/x-python",
   "name": "python",
   "nbconvert_exporter": "python",
   "pygments_lexer": "ipython3",
   "version": "3.6.1"
  }
 },
 "nbformat": 4,
 "nbformat_minor": 2
}
