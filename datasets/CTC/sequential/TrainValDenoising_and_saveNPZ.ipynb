{
 "cells": [
  {
   "cell_type": "code",
   "execution_count": 1,
   "metadata": {},
   "outputs": [
    {
     "name": "stderr",
     "output_type": "stream",
     "text": [
      "Using TensorFlow backend.\n"
     ]
    }
   ],
   "source": [
    "from csbdeep.models import Config, CARE\n",
    "import numpy as np\n",
    "from csbdeep.utils import plot_some, plot_history\n",
    "from csbdeep.utils.n2v_utils import manipulate_val_data\n",
    "\n",
    "from matplotlib import pyplot as plt\n",
    "\n",
    "import urllib\n",
    "\n",
    "import os\n",
    "import zipfile\n",
    "os.environ[\"CUDA_VISIBLE_DEVICES\"]=\"0\""
   ]
  },
  {
   "cell_type": "code",
   "execution_count": 2,
   "metadata": {
    "collapsed": true
   },
   "outputs": [],
   "source": [
    "# We need to normalize the data before we feed it into our network, and denormalize it afterwards.\n",
    "def normalize(img, mean, std):\n",
    "    zero_mean = img - mean\n",
    "    return zero_mean/std\n",
    "\n",
    "def denormalize(x, mean, std):\n",
    "    return x*std + mean"
   ]
  },
  {
   "cell_type": "code",
   "execution_count": 3,
   "metadata": {},
   "outputs": [
    {
     "name": "stdout",
     "output_type": "stream",
     "text": [
      "Loading network weights from 'weights_best.h5'.\n"
     ]
    }
   ],
   "source": [
    "model = CARE(None, 'n2v_model', basedir='/home/prakash/Desktop/falcon/outdata/n2v_CTC_n0/train_100/')"
   ]
  },
  {
   "cell_type": "code",
   "execution_count": 4,
   "metadata": {
    "collapsed": true
   },
   "outputs": [],
   "source": [
    "path_train = '/home/prakash/Desktop/falcon/train_data/TrainVal.npz'\n",
    "train_val = np.load(path_train)\n",
    "X_train = train_val['X_train']\n",
    "X_val = train_val['X_val']\n",
    "Y_train = train_val['Y_train']\n",
    "Y_val = train_val['Y_val']"
   ]
  },
  {
   "cell_type": "code",
   "execution_count": 5,
   "metadata": {
    "collapsed": true
   },
   "outputs": [],
   "source": [
    "path_train_N2V = '/home/prakash/Desktop/falcon/train_data/TrainValN2V.npz'\n",
    "train_val_N2V = np.load(path_train_N2V)\n",
    "X_train_N2V = train_val_N2V['X_train']\n",
    "mean, std = np.mean(X_train_N2V), np.std(X_train_N2V)"
   ]
  },
  {
   "cell_type": "code",
   "execution_count": 6,
   "metadata": {},
   "outputs": [],
   "source": [
    "path_test = '/home/prakash/Desktop/falcon/test_data/Test.npz'\n",
    "test = np.load(path_test)\n",
    "X_test = test['X_test']\n",
    "Y_test = test['Y_test']"
   ]
  },
  {
   "cell_type": "code",
   "execution_count": 7,
   "metadata": {
    "collapsed": true
   },
   "outputs": [],
   "source": [
    "X_train = normalize(X_train, mean, std)\n",
    "X_val = normalize(X_val, mean, std)\n",
    "X_test = normalize(X_test, mean, std)"
   ]
  },
  {
   "cell_type": "code",
   "execution_count": 8,
   "metadata": {
    "collapsed": true
   },
   "outputs": [],
   "source": [
    "predictions = []\n",
    "# Denoise all images\n",
    "for i in range(X_train.shape[0]):\n",
    "    predictions.append(denormalize(model.predict(X_train[i], axes='YX',normalizer=None ), mean, std))\n",
    "X_train_d = np.array(predictions)"
   ]
  },
  {
   "cell_type": "code",
   "execution_count": 9,
   "metadata": {
    "collapsed": true
   },
   "outputs": [],
   "source": [
    "predictions = []\n",
    "# Denoise all images\n",
    "for i in range(X_val.shape[0]):\n",
    "    predictions.append(denormalize(model.predict(X_val[i], axes='YX',normalizer=None ), mean, std))\n",
    "X_val_d = np.array(predictions)"
   ]
  },
  {
   "cell_type": "code",
   "execution_count": 10,
   "metadata": {
    "collapsed": true
   },
   "outputs": [],
   "source": [
    "predictions = []\n",
    "# Denoise all images\n",
    "for i in range(X_test.shape[0]):\n",
    "    predictions.append(denormalize(model.predict(X_test[i], axes='YX',normalizer=None ), mean, std))\n",
    "X_test_d = np.array(predictions)"
   ]
  },
  {
   "cell_type": "code",
   "execution_count": 11,
   "metadata": {
    "collapsed": true
   },
   "outputs": [],
   "source": [
    "np.savez_compressed(\"/home/prakash/Desktop/falcon/train_data/TrainVal_denoised.npz\", X_train=X_train_d, X_val=X_val_d,Y_train=Y_train, Y_val=Y_val)"
   ]
  },
  {
   "cell_type": "code",
   "execution_count": 12,
   "metadata": {
    "collapsed": true
   },
   "outputs": [],
   "source": [
    "np.savez_compressed(\"/home/prakash/Desktop/falcon/test_data/Test_denoised.npz\", X_test=X_test_d, Y_test=Y_test)"
   ]
  },
  {
   "cell_type": "code",
   "execution_count": null,
   "metadata": {
    "collapsed": true
   },
   "outputs": [],
   "source": []
  }
 ],
 "metadata": {
  "kernelspec": {
   "display_name": "Python 3",
   "language": "python",
   "name": "python3"
  },
  "language_info": {
   "codemirror_mode": {
    "name": "ipython",
    "version": 3
   },
   "file_extension": ".py",
   "mimetype": "text/x-python",
   "name": "python",
   "nbconvert_exporter": "python",
   "pygments_lexer": "ipython3",
   "version": "3.6.8"
  }
 },
 "nbformat": 4,
 "nbformat_minor": 2
}
